{
 "cells": [
  {
   "cell_type": "code",
   "execution_count": 1,
   "id": "4fb4117c",
   "metadata": {},
   "outputs": [],
   "source": [
    "from sklearn.datasets import load_iris\n",
    "from sklearn.model_selection import train_test_split, KFold\n",
    "from sklearn.preprocessing import StandardScaler\n",
    "import numpy as np"
   ]
  },
  {
   "cell_type": "code",
   "execution_count": 2,
   "id": "4477999d",
   "metadata": {},
   "outputs": [],
   "source": [
    "\n",
    "iris = load_iris()\n",
    "X, y = iris.data, iris.target\n",
    "\n",
    "\n",
    "scaler = StandardScaler()\n",
    "X = scaler.fit_transform(X)\n",
    "\n",
    "X_train, X_test, y_train, y_test = train_test_split(X, y, test_size=0.2, random_state=42)\n"
   ]
  },
  {
   "cell_type": "code",
   "execution_count": 3,
   "id": "93edc655",
   "metadata": {},
   "outputs": [],
   "source": [
    "\n",
    "kfold = KFold(n_splits=5, shuffle=True, random_state=42)\n",
    "accuracy_scores = []"
   ]
  },
  {
   "cell_type": "code",
   "execution_count": 4,
   "id": "0f203ec9",
   "metadata": {},
   "outputs": [],
   "source": [
    "class ELMClassifier:\n",
    "    def __init__(self, n_hidden):\n",
    "        self.n_hidden = n_hidden\n",
    "        self.input_weights = None\n",
    "        self.output_weights = None\n",
    "\n",
    "    def _sigmoid(self, x):\n",
    "        return 1 / (1 + np.exp(-x))\n",
    "\n",
    "    def fit(self, X, y):\n",
    "        n_samples, n_features = X.shape\n",
    "\n",
    "        #  input weights\n",
    "        self.input_weights = np.random.randn(n_features, self.n_hidden)\n",
    "\n",
    "        # hidden layer output\n",
    "        hidden_output = self._sigmoid(X @ self.input_weights)\n",
    "\n",
    "        \n",
    "        self.output_weights = np.linalg.pinv(hidden_output) @ y\n",
    "\n",
    "    def predict(self, X):\n",
    "        hidden_output = self._sigmoid(X @ self.input_weights)\n",
    "        predicted_output = hidden_output @ self.output_weights\n",
    "        return np.argmax(predicted_output, axis=1)\n",
    "\n",
    "# k-fold cross-validation\n",
    "for train_index, test_index in kfold.split(X):\n",
    "    X_train, X_test = X[train_index], X[test_index]\n",
    "    y_train, y_test = y[train_index], y[test_index]\n",
    "\n",
    "    # Create and train \n",
    "    elm_classifier = ELMClassifier(n_hidden=100)\n",
    "    elm_classifier.fit(X_train, np.eye(3)[y_train])\n",
    "\n",
    "    #  predictions on the test set\n",
    "    y_pred = elm_classifier.predict(X_train)\n",
    "\n",
    "    # Evaluate \n",
    "    accuracy = np.mean(y_pred == y_train)\n",
    "    accuracy_scores.append(accuracy)"
   ]
  },
  {
   "cell_type": "code",
   "execution_count": 5,
   "id": "70c924b0",
   "metadata": {},
   "outputs": [
    {
     "name": "stdout",
     "output_type": "stream",
     "text": [
      "Average Accuracy: 1.00\n"
     ]
    }
   ],
   "source": [
    "# average accuracy across folds\n",
    "average_accuracy = np.mean(accuracy_scores)\n",
    "print(f\"Average Accuracy: {average_accuracy:.2f}\")"
   ]
  },
  {
   "cell_type": "code",
   "execution_count": null,
   "id": "a4b1287f",
   "metadata": {},
   "outputs": [],
   "source": []
  }
 ],
 "metadata": {
  "kernelspec": {
   "display_name": "Python 3 (ipykernel)",
   "language": "python",
   "name": "python3"
  },
  "language_info": {
   "codemirror_mode": {
    "name": "ipython",
    "version": 3
   },
   "file_extension": ".py",
   "mimetype": "text/x-python",
   "name": "python",
   "nbconvert_exporter": "python",
   "pygments_lexer": "ipython3",
   "version": "3.11.1"
  }
 },
 "nbformat": 4,
 "nbformat_minor": 5
}
