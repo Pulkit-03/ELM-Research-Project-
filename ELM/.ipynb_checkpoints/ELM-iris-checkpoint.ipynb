{
 "cells": [
  {
   "cell_type": "code",
   "execution_count": 17,
   "id": "44ddf24a",
   "metadata": {},
   "outputs": [],
   "source": [
    "import numpy as np\n",
    "import pandas as pd\n",
    "from sklearn.model_selection import train_test_split\n",
    "from sklearn.metrics import accuracy_score\n",
    "from sklearn.preprocessing import StandardScaler\n",
    "from sklearn import datasets\n",
    "from sklearn.model_selection import StratifiedKFold"
   ]
  },
  {
   "cell_type": "code",
   "execution_count": 18,
   "id": "1e3e63c7",
   "metadata": {},
   "outputs": [],
   "source": [
    "iris= datasets.load_iris()\n",
    "X= iris.data\n",
    "y=iris.target"
   ]
  },
  {
   "cell_type": "code",
   "execution_count": 19,
   "id": "1d9d356a",
   "metadata": {},
   "outputs": [],
   "source": [
    "#splitting of dataset\n",
    "X_train, X_test, y_train, y_test = train_test_split(X, y, test_size=0.2)"
   ]
  },
  {
   "cell_type": "code",
   "execution_count": 20,
   "id": "b28aa78c",
   "metadata": {},
   "outputs": [],
   "source": [
    "scaler=StandardScaler()\n",
    "X_train=scaler.fit_transform(X_train)\n",
    "X_test=scaler.transform(X_test)"
   ]
  },
  {
   "cell_type": "code",
   "execution_count": 21,
   "id": "bfee331c",
   "metadata": {},
   "outputs": [],
   "source": [
    "def relu(x):\n",
    "    return np.maximum(0,x)\n",
    "\n",
    "def sigmoid(x):\n",
    "    return 1/(1+ np.exp(-x))"
   ]
  },
  {
   "cell_type": "code",
   "execution_count": 35,
   "id": "9efd06f6",
   "metadata": {},
   "outputs": [],
   "source": [
    "class ELMClassifier:\n",
    "    def __init__(self, input_size, hidden_size, output_size):\n",
    "        self.input_size = input_size\n",
    "        self.hidden_size = hidden_size\n",
    "        self.output_size = output_size\n",
    "        self.weights_input_hidden = np.random.rand(hidden_size, input_size)\n",
    "        self.bias_hidden = np.random.rand(hidden_size, 1)\n",
    "        self.activation_function = relu\n",
    "        self.output_activation = sigmoid\n",
    "        \n",
    "    def train(self, X, y):\n",
    "        H = self.activation_function(np.dot(self.weights_input_hidden, X.T) + self.bias_hidden)\n",
    "\n",
    "        # Handle different encodings for y_train\n",
    "        if len(np.unique(y)) == 2:  # Binary classification\n",
    "            H_pseudo_inverse = np.linalg.pinv(H.T)\n",
    "            self.output_weights = np.dot(H_pseudo_inverse, y.reshape(-1, 1))\n",
    "        else:  # Multi-class classification\n",
    "            # Convert integer labels to one-hot encoding\n",
    "            y_one_hot = np.eye(self.output_size)[y]\n",
    "            H_pseudo_inverse = np.linalg.pinv(H.T)\n",
    "            self.output_weights = np.dot(H_pseudo_inverse, y_one_hot)\n",
    "\n",
    "    def predict(self, X):\n",
    "        H = self.activation_function(np.dot(self.weights_input_hidden, X.T) + self.bias_hidden)\n",
    "        raw_output = np.dot(H.T, self.output_weights)\n",
    "        predictions = self.output_activation(raw_output)\n",
    "        \n",
    "        # For binary classification, return 0 or 1\n",
    "        if self.output_size == 1:\n",
    "            return np.round(predictions).astype(int).flatten()\n",
    "        else:\n",
    "            return np.argmax(predictions, axis=1)"
   ]
  },
  {
   "cell_type": "code",
   "execution_count": 36,
   "id": "666e09bd",
   "metadata": {},
   "outputs": [
    {
     "data": {
      "text/plain": [
       "array([0, 0, 0, 0, 0, 0, 0, 0, 0, 0, 0, 0, 0, 0, 0, 0, 0, 0, 0, 0, 0, 0,\n",
       "       0, 0, 0, 0, 0, 0, 0, 0, 0, 0, 0, 0, 0, 0, 0, 0, 0, 0, 0, 0, 0, 0,\n",
       "       0, 1, 1, 1, 1, 1, 1, 1, 1, 1, 1, 1, 1, 1, 1, 1, 1, 1, 1, 1, 1, 1,\n",
       "       1, 1, 1, 1, 1, 1, 1, 1, 1, 1, 1, 1, 1, 1, 1, 1, 1, 1, 1, 1, 1, 1,\n",
       "       1, 1, 2, 2, 2, 2, 2, 2, 2, 2, 2, 2, 2, 2, 2, 2, 2, 2, 2, 2, 2, 2,\n",
       "       2, 2, 2, 2, 2, 2, 2, 2, 2, 2, 2, 2, 2, 2, 2, 2, 2, 2, 2, 2, 2, 2,\n",
       "       2, 2, 2])"
      ]
     },
     "execution_count": 36,
     "metadata": {},
     "output_type": "execute_result"
    }
   ],
   "source": [
    "y_train"
   ]
  },
  {
   "cell_type": "code",
   "execution_count": 37,
   "id": "da11c316",
   "metadata": {},
   "outputs": [],
   "source": [
    "kfold = StratifiedKFold(n_splits=10, shuffle=True, random_state=42)"
   ]
  },
  {
   "cell_type": "code",
   "execution_count": 38,
   "id": "18f441fb",
   "metadata": {},
   "outputs": [],
   "source": [
    "accuracies = []"
   ]
  },
  {
   "cell_type": "code",
   "execution_count": 39,
   "id": "225db242",
   "metadata": {},
   "outputs": [],
   "source": [
    "for train_index, test_index in kfold.split(X, y):\n",
    "    X_train, X_test = X[train_index], X[test_index]\n",
    "    y_train, y_test = y[train_index], y[test_index]\n",
    "\n",
    "    # Create and initialize the ELM classifier\n",
    "    elm_classifier = ELMClassifier(input_size=X_train.shape[1], hidden_size=50, output_size=len(np.unique(y)))\n",
    "\n",
    "    # Train the ELM classifier\n",
    "    elm_classifier.train(X_train, y_train)\n",
    "\n",
    "    # Make predictions\n",
    "    predictions = elm_classifier.predict(X_test)\n",
    "\n",
    "    # Evaluate accuracy and store it\n",
    "    accuracy = accuracy_score(y_test, predictions)\n",
    "    accuracies.append(accuracy)"
   ]
  },
  {
   "cell_type": "code",
   "execution_count": 40,
   "id": "a73a9748",
   "metadata": {},
   "outputs": [
    {
     "name": "stdout",
     "output_type": "stream",
     "text": [
      "Average Accuracy (k-fold cross-validation): 83.33%\n"
     ]
    }
   ],
   "source": [
    "average_accuracy = np.mean(accuracies)\n",
    "print(f'Average Accuracy (k-fold cross-validation): {average_accuracy * 100:.2f}%')"
   ]
  },
  {
   "cell_type": "code",
   "execution_count": 26,
   "id": "671fbe9a",
   "metadata": {},
   "outputs": [],
   "source": [
    "elm_classifier = ELMClassifier(input_size = X_train.shape[1], hidden_size=50, output_size=1)\n",
    "elm_classifier.train(X_train, y_train.reshape(-1,1))\n"
   ]
  },
  {
   "cell_type": "code",
   "execution_count": 27,
   "id": "4da2da01",
   "metadata": {},
   "outputs": [],
   "source": [
    "predictions= elm_classifier.predict(X_test)"
   ]
  },
  {
   "cell_type": "code",
   "execution_count": 28,
   "id": "c217e39c",
   "metadata": {},
   "outputs": [
    {
     "name": "stdout",
     "output_type": "stream",
     "text": [
      "Accuracy:  53.33%\n"
     ]
    }
   ],
   "source": [
    "accuracy= accuracy_score(y_test, predictions)\n",
    "print(f'Accuracy: {accuracy * 100: .2f}%')"
   ]
  },
  {
   "cell_type": "code",
   "execution_count": null,
   "id": "6ef6f620",
   "metadata": {},
   "outputs": [],
   "source": []
  },
  {
   "cell_type": "code",
   "execution_count": null,
   "id": "8f5478c5",
   "metadata": {},
   "outputs": [],
   "source": []
  },
  {
   "cell_type": "code",
   "execution_count": null,
   "id": "4db28338",
   "metadata": {},
   "outputs": [],
   "source": []
  },
  {
   "cell_type": "code",
   "execution_count": null,
   "id": "abbf1d59",
   "metadata": {},
   "outputs": [],
   "source": []
  },
  {
   "cell_type": "code",
   "execution_count": null,
   "id": "51158b2f",
   "metadata": {},
   "outputs": [],
   "source": []
  },
  {
   "cell_type": "code",
   "execution_count": null,
   "id": "7cec3b26",
   "metadata": {},
   "outputs": [],
   "source": []
  },
  {
   "cell_type": "code",
   "execution_count": null,
   "id": "0a357dd2",
   "metadata": {},
   "outputs": [],
   "source": []
  },
  {
   "cell_type": "code",
   "execution_count": null,
   "id": "887591d9",
   "metadata": {},
   "outputs": [],
   "source": []
  }
 ],
 "metadata": {
  "kernelspec": {
   "display_name": "Python 3 (ipykernel)",
   "language": "python",
   "name": "python3"
  },
  "language_info": {
   "codemirror_mode": {
    "name": "ipython",
    "version": 3
   },
   "file_extension": ".py",
   "mimetype": "text/x-python",
   "name": "python",
   "nbconvert_exporter": "python",
   "pygments_lexer": "ipython3",
   "version": "3.11.1"
  }
 },
 "nbformat": 4,
 "nbformat_minor": 5
}
